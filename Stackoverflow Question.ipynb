{
 "cells": [
  {
   "cell_type": "code",
   "execution_count": 13,
   "metadata": {},
   "outputs": [],
   "source": [
    "test = pd.DataFrame({\"Messy\":[\"21/12/2017 11:12:48\",\"Port:4\",\"Reading 1: 1\",\"----\",\"21/12/2017 11:13:48\",\"Port:4\",\"Reading 1: 2\",\"Reading 2: 2.5\",\"----\"]})"
   ]
  },
  {
   "cell_type": "code",
   "execution_count": 14,
   "metadata": {},
   "outputs": [
    {
     "data": {
      "text/html": [
       "<div>\n",
       "<style scoped>\n",
       "    .dataframe tbody tr th:only-of-type {\n",
       "        vertical-align: middle;\n",
       "    }\n",
       "\n",
       "    .dataframe tbody tr th {\n",
       "        vertical-align: top;\n",
       "    }\n",
       "\n",
       "    .dataframe thead th {\n",
       "        text-align: right;\n",
       "    }\n",
       "</style>\n",
       "<table border=\"1\" class=\"dataframe\">\n",
       "  <thead>\n",
       "    <tr style=\"text-align: right;\">\n",
       "      <th></th>\n",
       "      <th>Messy</th>\n",
       "    </tr>\n",
       "  </thead>\n",
       "  <tbody>\n",
       "    <tr>\n",
       "      <th>0</th>\n",
       "      <td>21/12/2017 11:12:48</td>\n",
       "    </tr>\n",
       "    <tr>\n",
       "      <th>1</th>\n",
       "      <td>Port:4</td>\n",
       "    </tr>\n",
       "    <tr>\n",
       "      <th>2</th>\n",
       "      <td>Reading 1: 1</td>\n",
       "    </tr>\n",
       "    <tr>\n",
       "      <th>3</th>\n",
       "      <td>----</td>\n",
       "    </tr>\n",
       "    <tr>\n",
       "      <th>4</th>\n",
       "      <td>21/12/2017 11:13:48</td>\n",
       "    </tr>\n",
       "    <tr>\n",
       "      <th>5</th>\n",
       "      <td>Port:4</td>\n",
       "    </tr>\n",
       "    <tr>\n",
       "      <th>6</th>\n",
       "      <td>Reading 1: 2</td>\n",
       "    </tr>\n",
       "    <tr>\n",
       "      <th>7</th>\n",
       "      <td>Reading 2: 2.5</td>\n",
       "    </tr>\n",
       "    <tr>\n",
       "      <th>8</th>\n",
       "      <td>----</td>\n",
       "    </tr>\n",
       "  </tbody>\n",
       "</table>\n",
       "</div>"
      ],
      "text/plain": [
       "                 Messy\n",
       "0  21/12/2017 11:12:48\n",
       "1               Port:4\n",
       "2         Reading 1: 1\n",
       "3                 ----\n",
       "4  21/12/2017 11:13:48\n",
       "5               Port:4\n",
       "6         Reading 1: 2\n",
       "7       Reading 2: 2.5\n",
       "8                 ----"
      ]
     },
     "execution_count": 14,
     "metadata": {},
     "output_type": "execute_result"
    }
   ],
   "source": [
    "test"
   ]
  },
  {
   "cell_type": "code",
   "execution_count": 15,
   "metadata": {},
   "outputs": [],
   "source": [
    "target = pd.DataFrame({\"Time\":[\"21/12/2017 11:12:48\",\"21/12/2017 11:13:48\"],\"Port\":[\"Port:4\",\"Port:4\"],\"Field1\":['Reading 1: 1','Reading 1: 2'],\"Field2\":['','Reading 2: 2.5']})"
   ]
  },
  {
   "cell_type": "code",
   "execution_count": 16,
   "metadata": {},
   "outputs": [
    {
     "data": {
      "text/html": [
       "<div>\n",
       "<style scoped>\n",
       "    .dataframe tbody tr th:only-of-type {\n",
       "        vertical-align: middle;\n",
       "    }\n",
       "\n",
       "    .dataframe tbody tr th {\n",
       "        vertical-align: top;\n",
       "    }\n",
       "\n",
       "    .dataframe thead th {\n",
       "        text-align: right;\n",
       "    }\n",
       "</style>\n",
       "<table border=\"1\" class=\"dataframe\">\n",
       "  <thead>\n",
       "    <tr style=\"text-align: right;\">\n",
       "      <th></th>\n",
       "      <th>Field1</th>\n",
       "      <th>Field2</th>\n",
       "      <th>Port</th>\n",
       "      <th>Time</th>\n",
       "    </tr>\n",
       "  </thead>\n",
       "  <tbody>\n",
       "    <tr>\n",
       "      <th>0</th>\n",
       "      <td>Reading 1: 1</td>\n",
       "      <td></td>\n",
       "      <td>Port:4</td>\n",
       "      <td>21/12/2017 11:12:48</td>\n",
       "    </tr>\n",
       "    <tr>\n",
       "      <th>1</th>\n",
       "      <td>Reading 1: 2</td>\n",
       "      <td>Reading 2: 2.5</td>\n",
       "      <td>Port:4</td>\n",
       "      <td>21/12/2017 11:13:48</td>\n",
       "    </tr>\n",
       "  </tbody>\n",
       "</table>\n",
       "</div>"
      ],
      "text/plain": [
       "         Field1          Field2    Port                 Time\n",
       "0  Reading 1: 1                  Port:4  21/12/2017 11:12:48\n",
       "1  Reading 1: 2  Reading 2: 2.5  Port:4  21/12/2017 11:13:48"
      ]
     },
     "execution_count": 16,
     "metadata": {},
     "output_type": "execute_result"
    }
   ],
   "source": [
    "target"
   ]
  },
  {
   "cell_type": "code",
   "execution_count": 17,
   "metadata": {},
   "outputs": [
    {
     "name": "stdout",
     "output_type": "stream",
     "text": [
      "                 Messy  g  c\n",
      "0  21/12/2017 11:12:48  0  0\n",
      "1               Port:4  0  1\n",
      "2         Reading 1: 1  0  2\n",
      "4  21/12/2017 11:13:48  1  0\n",
      "5               Port:4  1  1\n",
      "6         Reading 1: 2  1  2\n",
      "7       Reading 2: 2.5  1  3\n"
     ]
    }
   ],
   "source": [
    "#check separator\n",
    "m = test['Messy'].str.startswith('----')\n",
    "#create groups\n",
    "test['g'] = m.cumsum()\n",
    "#filter out separator rows\n",
    "df = test[~m].copy()\n",
    "#count groups\n",
    "df['c'] = df.groupby('g').cumcount()\n",
    "print(df)\n"
   ]
  },
  {
   "cell_type": "code",
   "execution_count": 18,
   "metadata": {},
   "outputs": [
    {
     "name": "stdout",
     "output_type": "stream",
     "text": [
      "c                    0       1             2               3\n",
      "g                                                           \n",
      "0  21/12/2017 11:12:48  Port:4  Reading 1: 1            None\n",
      "1  21/12/2017 11:13:48  Port:4  Reading 1: 2  Reading 2: 2.5\n"
     ]
    }
   ],
   "source": [
    "#pivoting\n",
    "df = df.pivot('g','c','Messy')\n",
    "print(df)"
   ]
  },
  {
   "cell_type": "code",
   "execution_count": null,
   "metadata": {},
   "outputs": [],
   "source": []
  },
  {
   "cell_type": "code",
   "execution_count": null,
   "metadata": {},
   "outputs": [],
   "source": []
  },
  {
   "cell_type": "code",
   "execution_count": null,
   "metadata": {},
   "outputs": [],
   "source": []
  }
 ],
 "metadata": {
  "kernelspec": {
   "display_name": "Python 3",
   "language": "python",
   "name": "python3"
  },
  "language_info": {
   "codemirror_mode": {
    "name": "ipython",
    "version": 3
   },
   "file_extension": ".py",
   "mimetype": "text/x-python",
   "name": "python",
   "nbconvert_exporter": "python",
   "pygments_lexer": "ipython3",
   "version": "3.6.0"
  }
 },
 "nbformat": 4,
 "nbformat_minor": 2
}
